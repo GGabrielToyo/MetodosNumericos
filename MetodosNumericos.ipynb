{
  "nbformat": 4,
  "nbformat_minor": 0,
  "metadata": {
    "colab": {
      "provenance": [],
      "toc_visible": true,
      "authorship_tag": "ABX9TyMWDrEKX5B3EH/qZqjjaF8T",
      "include_colab_link": true
    },
    "kernelspec": {
      "name": "python3",
      "display_name": "Python 3"
    },
    "language_info": {
      "name": "python"
    }
  },
  "cells": [
    {
      "cell_type": "markdown",
      "metadata": {
        "id": "view-in-github",
        "colab_type": "text"
      },
      "source": [
        "<a href=\"https://colab.research.google.com/github/GGabrielToyo/MetodosNumericos/blob/main/MetodosNumericos.ipynb\" target=\"_parent\"><img src=\"https://colab.research.google.com/assets/colab-badge.svg\" alt=\"Open In Colab\"/></a>"
      ]
    },
    {
      "cell_type": "code",
      "source": [
        "#Trapezio Simples\n",
        "# 1\n",
        "# ʃ  x³e^x dx\n",
        "# 0\n",
        "\n",
        "import math\n",
        "import sympy as sp\n",
        "import scipy.integrate as spi\n",
        "from IPython.display import clear_output\n",
        "\n",
        "\n",
        "def f(x):\n",
        "    expr_str = x**3 * sp.exp(x)\n",
        "    return expr_str\n",
        "\n",
        "def calculaErro(f, x0, x1):\n",
        "  x = sp.symbols('x')\n",
        "  expr = f(x)\n",
        "  h = x1 - x0\n",
        "  derivadaSegunda = sp.diff(expr, x, 2)\n",
        "  Csi = derivadaSegunda.subs(x, x1 - x0)\n",
        "\n",
        "  erro = ( Csi * h**3 ) / 12\n",
        "  return erro\n",
        "\n",
        "\n",
        "def trapezioSimp(f, x0, x1):\n",
        "    h = x1 - x0\n",
        "    return (h / 2) * (f(x0) + f(x1))\n",
        "\n",
        "def main():\n",
        "    x0 = float(input(\"Digite o limite inferior (x0): \"))\n",
        "    x1 = float(input(\"Digite o limite superior (x1): \"))\n",
        "\n",
        "    integralTrapezio = trapezioSimp(f, x0, x1)\n",
        "    erro = calculaErro(f, x0, x1)\n",
        "\n",
        "    clear_output()\n",
        "    print(f\"Função: x^3 * e^x\")\n",
        "    print(f\"Com limite inferior de: {x0}\")\n",
        "    print(f\"Com limite superior de: {x1}\")\n",
        "    print(f\"A aproximação foi de: {integralTrapezio}\")\n",
        "    print(f\"Com erro de:  {erro}\")\n",
        "\n",
        "if __name__ == \"__main__\":\n",
        "    main()\n"
      ],
      "metadata": {
        "colab": {
          "base_uri": "https://localhost:8080/"
        },
        "id": "UBpGp0DSYxfc",
        "outputId": "bace8fbc-61aa-4f22-86f6-3da67699f555"
      },
      "execution_count": null,
      "outputs": [
        {
          "output_type": "stream",
          "name": "stdout",
          "text": [
            "Função: x^3 * e^x\n",
            "Com limite inferior de: 0.0\n",
            "Com limite superior de: 1.0\n",
            "A aproximação foi de: 1.35914091422952\n",
            "Com erro de:  2.94480531416397\n"
          ]
        }
      ]
    },
    {
      "cell_type": "code",
      "source": [
        "#Trapezio Composto\n",
        "\n",
        "import math\n",
        "import sympy as sp\n",
        "import scipy.integrate as spi\n",
        "from IPython.display import clear_output\n",
        "\n",
        "def f(x):\n",
        "    expr_str = x**3 * sp.exp(x)\n",
        "    return expr_str\n",
        "\n",
        "def trapezioComp(f, x0, x1, divisoes):\n",
        "    intervalo = (x1 - x0) / divisoes\n",
        "    h = intervalo / 2\n",
        "    intervaloList = []\n",
        "    func = []\n",
        "    integralComp = 0\n",
        "\n",
        "    for x in range(divisoes):\n",
        "      if (x == 0):\n",
        "        intervaloList.append(f(x0))\n",
        "\n",
        "      intervaloList.append(intervaloList[x] + intervalo)\n",
        "\n",
        "    for i in range(divisoes + 1):\n",
        "      if (i == 0 or i == divisoes + 1):\n",
        "        integralComp += f(intervaloList[i])\n",
        "\n",
        "      integralComp += 2 * f(intervaloList[i])\n",
        "\n",
        "    return integralComp * h\n",
        "\n",
        "def calcularErro(f, x0, x1, divisoes):\n",
        "  x = sp.symbols('x')\n",
        "  expr = f(x)\n",
        "  h = (x1 - x0) / divisoes\n",
        "  derivadaSegunda = sp.diff(expr, x, 2)\n",
        "\n",
        "  #f''(Csi) é o maior valor no intervalo em módulo\n",
        "  Csi = derivadaSegunda.subs(x, x0)\n",
        "  if (derivadaSegunda.subs(x, x1) > Csi):\n",
        "    Csi = derivadaSegunda.subs(x, x1)\n",
        "\n",
        "  erro = (divisoes * h**3 * Csi) / 12\n",
        "  return erro\n",
        "\n",
        "def main():\n",
        "    x0 = float(input(\"Digite o limite inferior (x0): \"))\n",
        "    x1 = float(input(\"Digite o limite superior (x1): \"))\n",
        "    divisoes = int(input(\"Digite quantas divisões: \"))\n",
        "\n",
        "    integralTrapezioComposto = trapezioComp(f, x0, x1, divisoes)\n",
        "    erro = calcularErro(f, x0, x1, divisoes)\n",
        "\n",
        "    clear_output()\n",
        "    print(f\"Função: x^3 * e^x\")\n",
        "    print(f\"Com limite inferior de: {x0}\")\n",
        "    print(f\"Com limite superior de: {x1}\")\n",
        "    print(f\"Com {divisoes} divisões\")\n",
        "    print(f\"A aproximação foi de: {integralTrapezioComposto}\")\n",
        "    print(f\"Com erro de:  {erro}\")\n",
        "\n",
        "if __name__ == \"__main__\":\n",
        "    main()\n",
        "\n"
      ],
      "metadata": {
        "colab": {
          "base_uri": "https://localhost:8080/"
        },
        "id": "W6Vc5415ophi",
        "outputId": "52df7870-fc35-4de1-9a04-418f1f6bff06"
      },
      "execution_count": null,
      "outputs": [
        {
          "output_type": "stream",
          "name": "stdout",
          "text": [
            "Função: x^3 * e^x\n",
            "Com limite inferior de: 0.0\n",
            "Com limite superior de: 1.0\n",
            "Com 10 divisões\n",
            "A aproximação foi de: 0.708399381170179\n",
            "Com erro de:  0.0294480531416397\n"
          ]
        }
      ]
    }
  ]
}